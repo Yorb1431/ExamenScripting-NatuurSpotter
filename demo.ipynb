{
 "cells": [
  {
   "cell_type": "markdown",
   "id": "f76541f1",
   "metadata": {},
   "source": [
    "# 🪲🪲🪲 Demo van het NatuurSpotter Package 🪲🪲🪲"
   ]
  },
  {
   "cell_type": "markdown",
   "id": "2b04df3e",
   "metadata": {},
   "source": [
    "## 📘 1. Toon informatie over een keversoort\n",
    "Gebruik de functie `soort_info()` om informatie op te vragen over een specifieke keversoort. Dit geeft onder andere de beschrijving, Latijnse naam, zeldzaamheidsstatus, een afbeelding in een PDF-rapport terug."
   ]
  },
  {
   "cell_type": "code",
   "execution_count": null,
   "id": "aa28b930",
   "metadata": {},
   "outputs": [],
   "source": [
    "from NatuurSpotter.main import soort_info\n",
    "soort_info(\"Gewone breedborst\")"
   ]
  },
  {
   "cell_type": "markdown",
   "id": "e4c5e2ed",
   "metadata": {},
   "source": [
    "## 🗺️ 2. Genereer een kaart van waarnemingen\n",
    "Met de functie `observaties_kaart()` tonen we een interactieve kaart met keverwaarnemingen van vandaag."
   ]
  },
  {
   "cell_type": "code",
   "execution_count": null,
   "id": "765f749b",
   "metadata": {},
   "outputs": [
    {
     "data": {
      "text/plain": [
       "'c:\\\\Users\\\\Gebruiker\\\\OneDrive - Thomas More\\\\ExamenScripting-NatuurSpotter\\\\ExamenScripting-NatuurSpotter\\\\NatuurSpotter\\\\..\\\\output\\\\geen_kaart_2025-06-07.html'"
      ]
     },
     "execution_count": 2,
     "metadata": {},
     "output_type": "execute_result"
    }
   ],
   "source": [
    "from NatuurSpotter.analysis import observaties_kaart\n",
    "observaties_kaart()"
   ]
  },
  {
   "cell_type": "markdown",
   "id": "d76be753",
   "metadata": {},
   "source": [
    "## 📅Geef een  datum mee\n",
    "Je kan ook een datum meegeven aan de kaartfunctie."
   ]
  },
  {
   "cell_type": "code",
   "execution_count": null,
   "id": "34708671",
   "metadata": {},
   "outputs": [
    {
     "data": {
      "text/plain": [
       "'c:\\\\Users\\\\Gebruiker\\\\OneDrive - Thomas More\\\\ExamenScripting-NatuurSpotter\\\\ExamenScripting-NatuurSpotter\\\\NatuurSpotter\\\\..\\\\output\\\\geen_kaart_2024-06-01.html'"
      ]
     },
     "execution_count": 3,
     "metadata": {},
     "output_type": "execute_result"
    }
   ],
   "source": [
    "observaties_kaart(\"2024-06-01\")"
   ]
  },
  {
   "cell_type": "markdown",
   "id": "afd936fb",
   "metadata": {},
   "source": [
    "## 📊 3. Seizoensanalyse van een soort\n",
    "Met `seizoensanalyse()` analyseren we in welke seizoenen een soort het vaakst wordt waargenomen.\n",
    "We tonen dit in een balkgrafiek en gebruiken AI om een verklaring te geven."
   ]
  },
  {
   "cell_type": "code",
   "execution_count": null,
   "id": "19023eb0",
   "metadata": {},
   "outputs": [],
   "source": [
    "from NatuurSpotter.analysis import seizoensanalyse\n",
    "seizoensanalyse(\"Gewone breedborst\", 2024)"
   ]
  },
  {
   "cell_type": "markdown",
   "id": "2915432a",
   "metadata": {},
   "source": [
    "## ℹ️ Loopt het nog fout?\n",
    "- Zorg dat je `.env` bestand correct is ingesteld voor de database\n",
    "- Run dit project altijd uit hoofdmap van de package (`ExamenScripting-NatuurSpotter/`)\n",
    "- Controleer of alle dependencies uit `requirements.txt` geïnstalleerd zijn\n",
    "\n",
    "Gebruik `!pip install -r requirements.txt`!"
   ]
  }
 ],
 "metadata": {
  "kernelspec": {
   "display_name": ".venv",
   "language": "python",
   "name": "python3"
  },
  "language_info": {
   "codemirror_mode": {
    "name": "ipython",
    "version": 3
   },
   "file_extension": ".py",
   "mimetype": "text/x-python",
   "name": "python",
   "nbconvert_exporter": "python",
   "pygments_lexer": "ipython3",
   "version": "3.11.5"
  }
 },
 "nbformat": 4,
 "nbformat_minor": 5
}
